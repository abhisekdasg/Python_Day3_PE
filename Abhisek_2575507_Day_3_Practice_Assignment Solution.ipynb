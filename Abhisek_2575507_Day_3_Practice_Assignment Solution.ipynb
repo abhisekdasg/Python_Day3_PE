{
 "cells": [
  {
   "cell_type": "markdown",
   "id": "73b97e17",
   "metadata": {},
   "source": [
    "# File Handling"
   ]
  },
  {
   "cell_type": "markdown",
   "id": "a15cbeb9",
   "metadata": {},
   "source": [
    "# 1. Write a python function that copies a file reading and writing up to 50 characters at a time."
   ]
  },
  {
   "cell_type": "code",
   "execution_count": 2,
   "id": "f697bf57",
   "metadata": {},
   "outputs": [],
   "source": [
    "# first creating a text file\n",
    "file = open('first.txt','w')\n",
    "file.writable()\n",
    "file.write('''\n",
    "Python is a high-level, general-purpose programming language. Its design philosophy emphasizes code readability with the use of significant indentation.\n",
    "\n",
    "Python is dynamically typed and garbage-collected. It supports multiple programming paradigms, including structured (particularly procedural),\n",
    "object-oriented and functional programming. \n",
    "\n",
    "It is often described as a \"batteries included\" language due to its comprehensive standard library.\n",
    "''')\n",
    "file.close()  # closing after creating"
   ]
  },
  {
   "cell_type": "code",
   "execution_count": 3,
   "id": "d34b6ce4",
   "metadata": {},
   "outputs": [
    {
     "name": "stdout",
     "output_type": "stream",
     "text": [
      "File copied successfully.\n"
     ]
    }
   ],
   "source": [
    "# functions to copy the file to another file\n",
    "def copy():\n",
    "    try:\n",
    "        with open('first.txt', 'r') as f1, open('second.txt', 'w') as f2:\n",
    "            while True:\n",
    "                cont = f1.read(50)\n",
    "                if not cont:\n",
    "                    break\n",
    "                f2.write(cont)\n",
    "        print(\"File copied successfully.\")\n",
    "    except FileNotFoundError:\n",
    "        print(\"Error: 'first.txt' not found.\")\n",
    "    except Exception as e:\n",
    "        print(f\"An error occurred: {str(e)}\")\n",
    "\n",
    "copy()"
   ]
  },
  {
   "cell_type": "code",
   "execution_count": 9,
   "id": "17b239dd",
   "metadata": {},
   "outputs": [
    {
     "name": "stdout",
     "output_type": "stream",
     "text": [
      "\n",
      "Python is a high-level, general-purpose programming language. Its design philosophy emphasizes code readability with the use of significant indentation.\n",
      "\n",
      "Python is dynamically typed and garbage-collected. It supports multiple programming paradigms, including structured (particularly procedural),\n",
      "object-oriented and functional programming. \n",
      "\n",
      "It is often described as a \"batteries included\" language due to its comprehensive standard library.\n",
      "\n"
     ]
    },
    {
     "data": {
      "text/plain": [
       "True"
      ]
     },
     "execution_count": 9,
     "metadata": {},
     "output_type": "execute_result"
    }
   ],
   "source": [
    "# cheking the contents of the file, present in the new file or not\n",
    "with open('second.txt', 'r') as file:\n",
    "            print(file.read())\n",
    "            file.close()\n",
    "# checking file closed or not\n",
    "file.closed"
   ]
  },
  {
   "cell_type": "markdown",
   "id": "3e36a9cd",
   "metadata": {},
   "source": [
    "# 2. Print all numbers present in the text file and print the number of blank spaces in that file."
   ]
  },
  {
   "cell_type": "code",
   "execution_count": 10,
   "id": "c828da47",
   "metadata": {},
   "outputs": [],
   "source": [
    "# lets create a textfile named as textnumblank.txt\n",
    "file = open('textnumblank.txt','w')\n",
    "file.writable()\n",
    "file.write('''\n",
    "10 Python is a high-level, 1 general-purpose 2 programming 3 language. 4 Its 5 design 6 philosophy 7emphasizes 8code readability with the use of significant indentation.\n",
    "\n",
    "''')\n",
    "file.close() "
   ]
  },
  {
   "cell_type": "code",
   "execution_count": 29,
   "id": "1292e72a",
   "metadata": {},
   "outputs": [
    {
     "name": "stdout",
     "output_type": "stream",
     "text": [
      "Numbers: ['10', '1', '2', '3', '4', '5', '6', '7', '8']\n",
      "Blank Space Count: 28\n"
     ]
    }
   ],
   "source": [
    "# Opening the text file \n",
    "with open('textnumblank.txt', 'r') as file:\n",
    "    # Read the entire content of the file and put into content\n",
    "    content = file.read()\n",
    "\n",
    "    numbers = []\n",
    "    count_blank_space = 0\n",
    "    current_number = \"\"\n",
    "\n",
    "\n",
    "    # searching each indivisual for number or spaces\n",
    "    for char in content:\n",
    "       \n",
    "        if char.isdigit():\n",
    "            # If it's part of a number, add it to the current number string\n",
    "            current_number = current_number + char \n",
    "            # If it's not a digit, check if it's a blank space\n",
    "        elif char.isspace():\n",
    "                count_blank_space += 1\n",
    "        elif current_number:\n",
    "            numbers.append(current_number)\n",
    "            current_number = \"\"\n",
    "\n",
    "print(\"Numbers:\", numbers)\n",
    "print(\"Blank Space Count:\", count_blank_space)"
   ]
  },
  {
   "cell_type": "markdown",
   "id": "e63dedcc",
   "metadata": {},
   "source": [
    "# 3. Write a function called sed that takes as arguments a pattern string, a replacement string. and two filenames; \n",
    "#it should read the first file and write the contents into the second file (creating it if necessary).\n",
    "#If the pattern string appears anywhere in the file, it should be. replaced with the replacement string. \n",
    "If an error occurs while opening, reading, writing. or closing files, your program should catch the exception, print an error message, and exit."
   ]
  },
  {
   "cell_type": "code",
   "execution_count": 31,
   "id": "73f90c41",
   "metadata": {},
   "outputs": [],
   "source": [
    "#first we create a source file\n",
    "with open('source_file.txt', 'w') as file:\n",
    "    file.write('''\n",
    "    Short moral stories are best for children who have been reading for generations. \n",
    "    These short stories with morals are popular in different languages and parts of the world. \n",
    "    A moral story depicts practical situations excitingly and carries a message that imbibes moral values in the children. \n",
    "    Different short moral stories teach different lessons to kids. The stories also make children responsible, \n",
    "    respectful, empathetic, and honest from a very early age.\n",
    "    \n",
    "    ''')\n",
    "    file.close()"
   ]
  },
  {
   "cell_type": "code",
   "execution_count": 14,
   "id": "527474ac",
   "metadata": {},
   "outputs": [
    {
     "name": "stdout",
     "output_type": "stream",
     "text": [
      "File 'source_file.txt' successfully processed and saved as 'target.txt'.\n"
     ]
    }
   ],
   "source": [
    "def sed(pattern, replacement, source_filename, destination_filename):\n",
    "    try:\n",
    "        # Open the source file for reading\n",
    "        with open(source_filename, 'r') as source_file:\n",
    "            # Read the content of the source file\n",
    "            content = source_file.read()\n",
    "\n",
    "        # Perform the replacement\n",
    "        modified_content = content.replace(pattern, replacement)\n",
    "\n",
    "        # Open or create the target file for writing\n",
    "        with open(destination_filename, 'w') as dest_file:\n",
    "            # Write the modified content to the target file\n",
    "            dest_file.write(modified_content)\n",
    "\n",
    "        print(f\"File '{source_filename}' successfully processed and saved as '{destination_filename}'.\")\n",
    "\n",
    "    except FileNotFoundError:\n",
    "        print(f\"Error: File '{source_filename}' not found.\")\n",
    "    except IOError as e:\n",
    "        print(f\"Error: An IOError occurred - {e}\")\n",
    "    except Exception as e:\n",
    "        print(f\"Error: An unexpected error occurred - {e}\")\n",
    "\n",
    "# Example usage:\n",
    "try:\n",
    "    sed(\"moral\", \"ethics\", \"source_file.txt\", \"target.txt\")\n",
    "except KeyboardInterrupt:\n",
    "    print(\"Operation aborted by user.\")"
   ]
  },
  {
   "cell_type": "code",
   "execution_count": 16,
   "id": "93a4a5bc",
   "metadata": {},
   "outputs": [
    {
     "name": "stdout",
     "output_type": "stream",
     "text": [
      "\n",
      "    Short ethics stories are best for children who have been reading for generations. \n",
      "    These short stories with ethicss are popular in different languages and parts of the world. \n",
      "    A ethics story depicts practical situations excitingly and carries a message that imbibes ethics values in the children. \n",
      "    Different short ethics stories teach different lessons to kids. The stories also make children responsible, \n",
      "    respectful, empathetic, and honest from a very early age.\n",
      "    \n",
      "    \n"
     ]
    }
   ],
   "source": [
    "#checking the file opening or ot\n",
    "with open('target.txt', 'r') as file:\n",
    "    content = file.read()\n",
    "    print(content)\n",
    "    file.close()"
   ]
  },
  {
   "cell_type": "markdown",
   "id": "f9629ec3",
   "metadata": {},
   "source": [
    "# 4. Log File Analysis: You have a log file containing records of user activities on a website. Each line in the file represents a log entry with details like timestamp, user ID, and action performed. Your task is to analyze this log file.\n",
    "#a. Write Python code to read the log file and extract specific information, such as the number of unique users or the most common action.\n",
    "b. How would you handle large log files efficiently without loading the entire file into memory?\n"
   ]
  },
  {
   "cell_type": "code",
   "execution_count": 12,
   "id": "746cce4b",
   "metadata": {},
   "outputs": [],
   "source": [
    "\n",
    "def parse_log_file(log_file_path):\n",
    "   \n",
    "    log_entries_by_date ={}\n",
    "\n",
    "    with open(log_file_path, 'r') as log_file:\n",
    "         for line in log_file:\n",
    "                # Split the line into components\n",
    "            parts = line.strip().split(',')\n",
    "               # Check if the line has the expected number of components\n",
    "            if len(parts) == 2:\n",
    "                timestamp, message = parts\n",
    "                date= timestamp[:10]\n",
    "                if date in log_entries_by_date:\n",
    "                    log_entries_by_date[date].append(message) \n",
    "                else:\n",
    "                    log_entries_by_date [date] = [message]\n",
    "\n",
    "    return log_entries_by_date\n",
    "\n",
    "def analyze_log_data(log_entries_by_date): \n",
    "    for date, entries in log_entries_by_date.items():\n",
    "        print(f\"Date: {date}\") \n",
    "        print(f\"Total Entries: {len(entries)}\") \n",
    "        print(f\"Sample Entries: \")\n",
    "        for i, entry in enumerate (entries[:5], start=1):\n",
    "            print(f\"{i}. {entry}\")\n",
    "        print(\"--------\")\n",
    "\n",
    "    "
   ]
  },
  {
   "cell_type": "code",
   "execution_count": 13,
   "id": "bf5a354c",
   "metadata": {},
   "outputs": [
    {
     "name": "stdout",
     "output_type": "stream",
     "text": [
      "Date: [2023-09-0\n",
      "Total Entries: 3\n",
      "Sample Entries: \n",
      "1. 5.0.0) (filter=(|(&(osgi.arch=aarch64)(osgi.os=linux)(osgi.ws=gtk))(&(osgi.arch=aarch64)(osgi.os=macosx)(osgi.ws=cocoa))(&(osgi.arch=x86_64)(osgi.os=linux)(osgi.ws=gtk))(&(osgi.arch=x86_64)(osgi.os=macosx)(osgi.ws=cocoa))(&(osgi.arch=x86_64)(osgi.os=win32)(osgi.ws=win32))))\n",
      "2. 5.0.0)\n",
      "3. 5.0.0)\n",
      "--------\n"
     ]
    }
   ],
   "source": [
    "if __name__ ==\"__main__\":\n",
    "    log_file_path = 'C:/Users/Abhisek Das/Desktop/PE python/DAY3/log.txt'\n",
    "    log_entries_by_date = parse_log_file(log_file_path)\n",
    "    analyze_log_data(log_entries_by_date)"
   ]
  },
  {
   "cell_type": "markdown",
   "id": "3287d98b",
   "metadata": {},
   "source": [
    "# 5. Text File Search and Replace: You have a text file with a large amount of text, and you want to search for specific words or phrases and replace them with new content.\n",
    "a. Write Python code to search for and replace text within a text file.\n",
    "b. How would you handle cases where you need to perform multiple replacements in a single pass?\n"
   ]
  },
  {
   "cell_type": "code",
   "execution_count": 93,
   "id": "2440791e",
   "metadata": {},
   "outputs": [],
   "source": [
    "#first we create a text file\n",
    "with open('large_text_file.txt', 'w') as file:\n",
    "    file.write('''\n",
    "    As he climbed the steep hill, he heard an earthly wail sending a shiver down his spine. A metal foot heaved itself onto the soft, squelchy surface of the muddy soil. It echoed through his ear drums, haunting his future nightmares. It was like the undead bursting out of the ground. Seconds later, it did. Black, bony zombies with orange flashes pouring off them like blood. Rapiers being gripped in their palms.\n",
    "\n",
    "His clothes were sodden. A low din echoed through the trees.\n",
    "\n",
    "A burst of black sparks erupted from the ground. Noise surrounded him. A mix of grunts and clangs filled his ear drums. All of the metal objects were holding rapiers that were visibly moulding. Then they started falling like they had been shot in the back. Then he just stood there, breath baited.\n",
    "\n",
    "Jack was an ordinary ten year old, loved video games, went to school, but a few years ago, on holiday to The Alps, he fell off his ski cart landing on a pile of soft, white snow – never to be seen again.\n",
    "\n",
    "After that, he was forced to survive in the forests of Switzerland. He had brown hair that spiked up at the front. He had scratches, cuts, bruises and mud all over his body. Jack had been on the news and a search team had come out to find him but they hadn’t succeeded.\n",
    "  \n",
    "   ''')\n",
    "    file.close()"
   ]
  },
  {
   "cell_type": "code",
   "execution_count": 99,
   "id": "9cbcedd6",
   "metadata": {},
   "outputs": [
    {
     "name": "stdout",
     "output_type": "stream",
     "text": [
      "Search and replace completed in 'C:/Users/Abhisek Das/Desktop/d3/large_text_file.txt'.\n"
     ]
    }
   ],
   "source": [
    "# Function to search and replace text in a text file\n",
    "def search_replace_in_file(file_path, search_text, replace_text):\n",
    "    try:\n",
    "        # Open the file for reading\n",
    "        with open(file_path, 'r') as file:\n",
    "            file_content = file.read()\n",
    "\n",
    "        # Perform the search and replace\n",
    "        updated_content = file_content.replace(search_text, replace_text)\n",
    "\n",
    "        # Open the same file for writing (it will replace the original file)\n",
    "        with open(file_path, 'w') as file:\n",
    "            file.write(updated_content)\n",
    "\n",
    "        print(f\"Search and replace completed in '{file_path}'.\")\n",
    "\n",
    "    except FileNotFoundError:\n",
    "        print(f\"Error: File '{file_path}' not found.\")\n",
    "    except Exception as e:\n",
    "        print(f\"An error occurred: {e}\")\n",
    "\n",
    "file_path = 'C:/Users/Abhisek Das/Desktop/PE python/DAY3/large_text_file.txt' \n",
    "search_text = 'John'\n",
    "replace_text = 'Jenny'\n",
    "search_replace_in_file(file_path, search_text, replace_text)\n"
   ]
  },
  {
   "cell_type": "code",
   "execution_count": 100,
   "id": "ca131c5d",
   "metadata": {},
   "outputs": [
    {
     "name": "stdout",
     "output_type": "stream",
     "text": [
      "\n",
      "    As she climbed tshe steep hill, she sheard an earthly wail sending a shiver down her spine. A metal foot sheaved itself onto tshe soft, squelchy surface of tshe muddy soil. It echoed through her ear drums, haunting her future nightmares. It was like tshe undead bursting out of tshe ground. Seconds later, it did. Black, bony zombies with orange flasshes pouring off tshem like blood. Rapiers being gripped in tsheir palms.\n",
      "\n",
      "His clotshes were sodden. A low din echoed through tshe trees.\n",
      "\n",
      "A burst of black sparks erupted from tshe ground. Noise surrounded him. A mix of grunts and clangs filled her ear drums. All of tshe metal objects were holding rapiers that were visibly moulding. Tshen tshey started falling like tshey had been shot in tshe back. Tshen she just stood tshere, breath baited.\n",
      "\n",
      "Jenny was an ordinary ten year old, loved video games, went to school, but a few years ago, on holiday to Tshe Alps, she fell off her ski cart landing on a pile of soft, white snow – never to be seen again.\n",
      "\n",
      "After that, she was forced to survive in tshe forests of Switzerland. He had brown hair that spiked up at tshe front. He had scratcshes, cuts, bruises and mud all over her body. Jenny had been on tshe news and a search team had come out to find him but tshey hadn’t succeeded.\n",
      "  \n",
      "   \n"
     ]
    }
   ],
   "source": [
    "with open('large_text_file.txt', 'r') as source_file:\n",
    "    # Read the content of the source file\n",
    "    content = source_file.read()\n",
    "    print(content)\n",
    "    source_file.close()"
   ]
  },
  {
   "cell_type": "code",
   "execution_count": 7,
   "id": "0c94cbc1",
   "metadata": {},
   "outputs": [
    {
     "name": "stdout",
     "output_type": "stream",
     "text": [
      "Multiple search and replace completed in 'C:/Users/Abhisek Das/Desktop/PE python/DAY3/large_text_file.txt'.\n"
     ]
    }
   ],
   "source": [
    "import re\n",
    "\n",
    "# Function to perform multiple search and replace operations in a text file\n",
    "def multiple_search_replace_in_file(file_path, replacements):\n",
    "    try:\n",
    "        # Open the file for reading\n",
    "        with open(file_path, 'r') as file:\n",
    "            file_content = file.read()\n",
    "\n",
    "        # Iterate through the replacements and apply them using regular expressions\n",
    "        for search_text, replace_text in replacements.items():\n",
    "            # Create a regular expression pattern for the search_text\n",
    "            pattern = re.compile(re.escape(search_text))\n",
    "            # Use re.sub to perform the replacement\n",
    "            file_content = pattern.sub(replace_text, file_content)\n",
    "\n",
    "        # Open the same file for writing (it will replace the original file)\n",
    "        with open(file_path, 'w') as file:\n",
    "            file.write(file_content)\n",
    "\n",
    "        print(f\"Multiple search and replace completed in '{file_path}'.\")\n",
    "\n",
    "    except FileNotFoundError:\n",
    "        print(f\"Error: File '{file_path}' not found.\")\n",
    "    except Exception as e:\n",
    "        print(f\"An error occurred: {e}\")\n",
    "\n",
    "file_path = 'C:/Users/Abhisek Das/Desktop/PE python/DAY3/large_text_file.txt'  \n",
    "replacements = {\n",
    "    'he': 'she',\n",
    "    'Jack': 'Jenny',\n",
    "    'his':'her'\n",
    "}\n",
    "multiple_search_replace_in_file(file_path, replacements)\n"
   ]
  },
  {
   "cell_type": "code",
   "execution_count": 8,
   "id": "dcd3c4c3",
   "metadata": {},
   "outputs": [
    {
     "name": "stdout",
     "output_type": "stream",
     "text": [
      "\n",
      "    As sshe climbed tsshe steep hill, sshe ssheard an earthly wail sending a shiver down sher spine. A metal foot ssheaved itself onto tsshe soft, squelchy surface of tsshe muddy soil. It echoed through sher ear drums, haunting sher future nightmares. It was like tsshe undead bursting out of tsshe ground. Seconds later, it did. Black, bony zombies with orange flassshes pouring off tsshem like blood. Rapiers being gripped in tssheir palms.\n",
      "\n",
      "His clotsshes were sodden. A low din echoed through tsshe trees.\n",
      "\n",
      "A burst of black sparks erupted from tsshe ground. Noise surrounded him. A mix of grunts and clangs filled sher ear drums. All of tsshe metal objects were holding rapiers that were visibly moulding. Tsshen tsshey started falling like tsshey had been shot in tsshe back. Tsshen sshe just stood tsshere, breath baited.\n",
      "\n",
      "Jenny was an ordinary ten year old, loved video games, went to school, but a few years ago, on holiday to Tsshe Alps, sshe fell off sher ski cart landing on a pile of soft, white snow – never to be seen again.\n",
      "\n",
      "After that, sshe was forced to survive in tsshe forests of Switzerland. He had brown hair that spiked up at tsshe front. He had scratcsshes, cuts, bruises and mud all over sher body. Jenny had been on tsshe news and a search team had come out to find him but tsshey hadn’t succeeded.\n",
      "  \n",
      "   \n"
     ]
    }
   ],
   "source": [
    "with open('large_text_file.txt', 'r') as source_file:\n",
    "    # Read the content of the source file\n",
    "    content = source_file.read()\n",
    "    print(content)\n",
    "    source_file.close()"
   ]
  },
  {
   "cell_type": "markdown",
   "id": "cee2d38a",
   "metadata": {},
   "source": [
    "# 6. Write a Python script that concatenates the contents of multiple text files into a single output file. Allow the user to specify the input files and the output file."
   ]
  },
  {
   "cell_type": "code",
   "execution_count": 109,
   "id": "ac8f821c",
   "metadata": {},
   "outputs": [
    {
     "name": "stdout",
     "output_type": "stream",
     "text": [
      "Enter the input file(s) separated by spaces: first.txt second.txt\n",
      "Enter the output file: concat.txt\n",
      "Concatenation completed. Output written to 'concat.txt'.\n"
     ]
    }
   ],
   "source": [
    "def concatenate_files(input_files, output_file):\n",
    "    try:\n",
    "        # Open the output file for writing\n",
    "        with open(output_file, 'w') as output:\n",
    "            for input_file in input_files:\n",
    "                # Open each input file for reading\n",
    "                with open(input_file, 'r') as input:\n",
    "                    # Read the content of the input file and write it to the output file\n",
    "                    output.write(input.read())\n",
    "                # Add a newline separator between files\n",
    "                output.write('\\n')\n",
    "\n",
    "        print(f\"Concatenation completed. Output written to '{output_file}'.\")\n",
    "\n",
    "    except FileNotFoundError:\n",
    "        print(f\"Error: One or more input files not found.\")\n",
    "    except Exception as e:\n",
    "        print(f\"An error occurred: {e}\")\n",
    "\n",
    "# Get user input for input files and output file\n",
    "input_files = input(\"Enter the input file(s) separated by spaces: \").split()\n",
    "output_file = input(\"Enter the output file: \")\n",
    "\n",
    "# Call the function to concatenate the files\n",
    "concatenate_files(input_files, output_file)\n"
   ]
  },
  {
   "cell_type": "code",
   "execution_count": 110,
   "id": "598b3807",
   "metadata": {},
   "outputs": [
    {
     "name": "stdout",
     "output_type": "stream",
     "text": [
      "\n",
      "Python is a high-level, general-purpose programming language. Its design philosophy emphasizes code readability with the use of significant indentation.\n",
      "\n",
      "Python is dynamically typed and garbage-collected. It supports multiple programming paradigms, including structured (particularly procedural),\n",
      "object-oriented and functional programming. \n",
      "\n",
      "It is often described as a \"batteries included\" language due to its comprehensive standard library.\n",
      "\n",
      "\n",
      "Python is a high-level, general-purpose programming language. Its design philosophy emphasizes code readability with the use of significant indentation.\n",
      "\n",
      "Python is dynamically typed and garbage-collected. It supports multiple programming paradigms, including structured (particularly procedural),\n",
      "object-oriented and functional programming. \n",
      "\n",
      "It is often described as a \"batteries included\" language due to its comprehensive standard library.\n",
      "\n",
      "\n"
     ]
    }
   ],
   "source": [
    "with open('concat.txt', 'r') as file:\n",
    "    # Read the content of the source file\n",
    "    content = file.read()\n",
    "    print(content)\n",
    "    file.close()"
   ]
  },
  {
   "cell_type": "markdown",
   "id": "33461de1",
   "metadata": {},
   "source": [
    "# 7. You are given a text file named input.txt containing a list of words, one word per line. Your task is to create a Python program that reads the contents of input.txt, processes the words, and writes the result to an output file named output.txt.\n",
    "a. The program should perform the following operations:\n",
    "    i. Read the words from input.txt.\n",
    "    ii. For each word in the input file, calculate the length of the word and store it in a dictionary where the word is the key, and the length is the value.\n",
    "    iii. Write the word-length dictionary to output.txt in the following format:\n",
    "    word1 : lengh1\n",
    "    word2 : length2\n",
    "    \n",
    "    iv. Close both input and output files properly.\n",
    "    v. Write Python code to accomplish this task. Ensure proper error handling for file operations.\n"
   ]
  },
  {
   "cell_type": "code",
   "execution_count": 5,
   "id": "a297d53f",
   "metadata": {},
   "outputs": [
    {
     "name": "stdout",
     "output_type": "stream",
     "text": [
      "Word-length dictionary written to 'output.txt'.\n"
     ]
    }
   ],
   "source": [
    "def len_words(input_file_path, output_file_path):\n",
    "    try:\n",
    "        # Open the input file for reading\n",
    "        with open(input_file_path, 'r') as input_file:\n",
    "            words = input_file.read().splitlines()\n",
    "\n",
    "        # Create a dictionary to store word-length pairs\n",
    "        word_length_dict = {word: len(word) for word in words}\n",
    "\n",
    "        # Open the output file for writing\n",
    "        with open(output_file_path, 'w') as output_file:\n",
    "            # Write word-length pairs to the output file\n",
    "            for word, length in word_length_dict.items():\n",
    "                output_file.write(f\"{word} : {length}\\n\")\n",
    "\n",
    "        print(f\"Word-length dictionary written to '{output_file_path}'.\")\n",
    "\n",
    "    except FileNotFoundError as e:\n",
    "        print(f\"Error: {e}\")\n",
    "    except Exception as e:\n",
    "        print(f\"An error occurred: {e}\")\n",
    "\n",
    "# defining input and output file paths\n",
    "input_file_path = 'input.txt'\n",
    "output_file_path = 'output.txt'\n",
    "\n",
    "# Calling the function \n",
    "len_words(input_file_path, output_file_path)\n"
   ]
  },
  {
   "cell_type": "code",
   "execution_count": 6,
   "id": "92f7701e",
   "metadata": {},
   "outputs": [
    {
     "name": "stdout",
     "output_type": "stream",
     "text": [
      "apple : 5\n",
      "banana : 6\n",
      "cherry : 6\n",
      "date : 4\n",
      "\n"
     ]
    }
   ],
   "source": [
    "with open('output.txt', 'r') as file:\n",
    "    # Read the content of the source file\n",
    "    content = file.read()\n",
    "    print(content)\n",
    "    file.close()"
   ]
  },
  {
   "cell_type": "markdown",
   "id": "074f18d0",
   "metadata": {},
   "source": [
    "# 8 Assume that you are developing a student gradebook system for a school. The system should allow teachers to input student grades for various subjects, store the data in files, and provide students with the ability to view their grades.\n",
    "    Design a Python program that accomplishes the following tasks:\n",
    "    i. Teachers should be able to input grades for students in different subjects.\n",
    "    ii. Store the student grade data in separate text files for each subject.\n",
    "    iii. Students should be able to view their grades for each subject.\n",
    "    iv. Implement error handling for file operations, such as file not found or permission issues\n"
   ]
  },
  {
   "cell_type": "code",
   "execution_count": 1,
   "id": "69b01740",
   "metadata": {},
   "outputs": [
    {
     "name": "stdout",
     "output_type": "stream",
     "text": [
      "Enter the number of subjects: 2\n",
      "Enter the subject name: Math\n",
      "Enter the number of students for Math: 2\n",
      "Enter student 1's name: Abhi\n",
      "Enter Abhi's grade in Math: A1\n",
      "Enter student 2's name: Rohan\n",
      "Enter Rohan's grade in Math: B1\n",
      "*****Grades for Math have been inputted successfully.*****\n",
      "Enter the subject name: English\n",
      "Enter the number of students for English: 2\n",
      "Enter student 1's name: Abhi\n",
      "Enter Abhi's grade in English: A2\n",
      "Enter student 2's name: Rohan\n",
      "Enter Rohan's grade in English: B1\n",
      "*****Grades for English have been inputted successfully.*****\n",
      "Enter the subject name to view grades: Math\n",
      "Enter your name: Abhi\n",
      "Abhi's grade in Math: A1\n"
     ]
    }
   ],
   "source": [
    "import os\n",
    "\n",
    "# Function for teachers to input grades for multiple subjects\n",
    "def input_grades():\n",
    "    try:\n",
    "        num_subjects = int(input(\"Enter the number of subjects: \"))\n",
    "        for _ in range(num_subjects):\n",
    "            subject = input(\"Enter the subject name: \")\n",
    "            student_count = int(input(f\"Enter the number of students for {subject}: \"))\n",
    "\n",
    "            # Create a directory for the subject if it doesn't exist\n",
    "            if not os.path.exists(subject):\n",
    "                os.mkdir(subject)\n",
    "\n",
    "            student_grades = {}\n",
    "            for i in range(student_count):\n",
    "                student_name = input(f\"Enter student {i+1}'s name: \")\n",
    "                grade = input(f\"Enter {student_name}'s grade in {subject}: \")\n",
    "                student_grades[student_name] = grade\n",
    "\n",
    "                subject_dir = os.path.join(subject, student_name)\n",
    "                os.makedirs(subject_dir, exist_ok=True)\n",
    "                file_path = os.path.join(subject_dir, \"grades.txt\")\n",
    "                with open(file_path, 'w') as file:\n",
    "                    file.write(str(grade))\n",
    "\n",
    "            print(f\"*****Grades for {subject} have been inputted successfully.*****\")\n",
    "\n",
    "    except Exception as e:\n",
    "        print(f\"Error: {e}\")\n",
    "\n",
    "# Function for students to view their grades in a specific subject\n",
    "def view_grades():\n",
    "    try:\n",
    "        subject = input(\"Enter the subject name to view grades: \")\n",
    "        student_name = input(\"Enter your name: \")\n",
    "\n",
    "        subject_dir = os.path.join(subject, student_name)\n",
    "        file_path = os.path.join(subject_dir, \"grades.txt\")\n",
    "        with open(file_path, 'r') as file:\n",
    "            grade = file.read()\n",
    "            print(f\"{student_name}'s grade in {subject}: {grade}\")\n",
    "\n",
    "    except FileNotFoundError:\n",
    "        print(f\"Error: {student_name} not found in {subject}.\")\n",
    "    except Exception as e:\n",
    "        print(f\"Error: {e}\")\n",
    "\n",
    "# calling function\n",
    "input_grades()\n",
    "view_grades()\n"
   ]
  }
 ],
 "metadata": {
  "kernelspec": {
   "display_name": "Python 3 (ipykernel)",
   "language": "python",
   "name": "python3"
  },
  "language_info": {
   "codemirror_mode": {
    "name": "ipython",
    "version": 3
   },
   "file_extension": ".py",
   "mimetype": "text/x-python",
   "name": "python",
   "nbconvert_exporter": "python",
   "pygments_lexer": "ipython3",
   "version": "3.11.4"
  }
 },
 "nbformat": 4,
 "nbformat_minor": 5
}
